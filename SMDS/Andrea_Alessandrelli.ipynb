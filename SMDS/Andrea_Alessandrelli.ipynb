{
 "cells": [
  {
   "cell_type": "markdown",
   "metadata": {
    "collapsed": false
   },
   "source": [
    "# Esame SMDA\n",
    "## MASTER IN BIG DATA ANALYTICS AND SOCIAL MINING 2024\n",
    "### Andrea Alessandrelli\n",
    "\n",
    "9 Aprile 2024\n",
    "\n"
   ]
  },
  {
   "cell_type": "markdown",
   "metadata": {},
   "source": [
    "***"
   ]
  },
  {
   "cell_type": "markdown",
   "metadata": {},
   "source": [
    "## 1. Exercise (4.5 point total. 1.5 each)"
   ]
  },
  {
   "cell_type": "markdown",
   "metadata": {},
   "source": [
    "1.1. You are renovating your house and you need a sofa. You go to the PoltroneSofa shop and find a sofa whose declared length is 180 cm. You take a tape and measure the sofa’s length 18 times. The average of the measurements you obtain is 182 cm. You need to test if the true height is 180 cm. Which test should you use?\n",
    "\n",
    "(1) Kolmogorov-Smirnov test \n",
    "\n",
    "(2) t-test\n",
    "\n",
    "(3) F-test\n",
    "\n",
    "(4) chi-squared test\n",
    "\n",
    "(5) None of the above\n",
    "\n",
    "\n",
    "RISPOSTA: (2)"
   ]
  },
  {
   "cell_type": "markdown",
   "metadata": {},
   "source": [
    "1.2. You also need two pillows of different size. Each pillow is measured 40 times. Which\n",
    "test should you use to test if the two variances are the same?\n",
    "\n",
    "(1) Kolmogorov-Smirnov test \n",
    "\n",
    "(2) t-test\n",
    "\n",
    "(3) F-test\n",
    "\n",
    "(4) chi-squared test\n",
    "\n",
    "(5) None of the above\n",
    "\n",
    "\n",
    "RISPOSTA: (3)"
   ]
  },
  {
   "cell_type": "markdown",
   "metadata": {},
   "source": [
    "1.3. A group of researchers is investigating the effectiveness of three different teaching methods on improving students’ performance. They conducted an experiment with 90 students randomly divided into three groups, with 30 students in each group. After the experiment, they recorded whether each student passed or failed the final exam, resulting in a contingency table. The researchers want to test the null hypothesis that the teaching method and students’ exam performance are independent. Which test should they use?\n",
    "\n",
    "(1) Kolmogorov-Smirnov test \n",
    "\n",
    "(2) t-test\n",
    "\n",
    "(3) F-test\n",
    "\n",
    "(4) chi-squared test\n",
    "\n",
    "(5) None of the above\n",
    "\n",
    "RISPOSTA: (4)"
   ]
  },
  {
   "cell_type": "markdown",
   "metadata": {},
   "source": [
    "***\n",
    "***\n",
    "***"
   ]
  },
  {
   "cell_type": "markdown",
   "metadata": {},
   "source": [
    "## 2. Exercise (12 points total)"
   ]
  },
  {
   "cell_type": "markdown",
   "metadata": {},
   "source": [
    "Given the results of a chemical analysis of wines grown in the same region in Italy (derived from three different cultivars), a researcher wants to analyze the relationship between the 13 constituents found. Dataset: wine.csv\n",
    "\n",
    "(1) Describe the dataset; compute the average, variance, and quartiles of ’total_phenols’ and ’color_intensity’. Plot them in a scatterplot. (1.5 points)\n",
    "\n",
    "(2) compute the covariance between all the columns and plot the results in a heatmap (1.5 points)\n",
    "\n",
    "(3) are ’total_phenols’ and ’color_intensity’; ’total_phenols’ and ’alcohol’ correlated according to the Spearman correlation? Is it significant (95%)? Write explicitly the answer. (2 points)\n",
    "\n",
    "(4) Use the linear regression model (WITH intercept) to describe the data above: y=’alcohol’,\n",
    "x= ’color intensity’ then plot (scatterplot). Has the predictor x a significant influence on the\n",
    "response, at the 95% confidence level? Motivate your answer. (3 points)\n",
    "\n",
    "(5) use the linear regression model (WITH intercept) to describe the data above:\n",
    "\n",
    "1. y=’alcohol’, x= [’color_intensity’,’proline’].\n",
    "2. y=’alcohol’, x= [’color_intensity’,’proline’,’magnesium’] \n",
    "\n",
    "Formally, which predictors have a significant influence on the response, at the 95% confidence level? Motivate your answer. Which model performs better? Discuss in detail the quantities that need to be considered (and those that do not). (4 points)"
   ]
  },
  {
   "cell_type": "code",
   "execution_count": 1,
   "metadata": {},
   "outputs": [],
   "source": [
    "import pandas as pd\n",
    "import matplotlib.pyplot as plt\n",
    "import seaborn as sns"
   ]
  },
  {
   "cell_type": "code",
   "execution_count": 2,
   "metadata": {},
   "outputs": [
    {
     "data": {
      "text/html": [
       "<div>\n",
       "<style scoped>\n",
       "    .dataframe tbody tr th:only-of-type {\n",
       "        vertical-align: middle;\n",
       "    }\n",
       "\n",
       "    .dataframe tbody tr th {\n",
       "        vertical-align: top;\n",
       "    }\n",
       "\n",
       "    .dataframe thead th {\n",
       "        text-align: right;\n",
       "    }\n",
       "</style>\n",
       "<table border=\"1\" class=\"dataframe\">\n",
       "  <thead>\n",
       "    <tr style=\"text-align: right;\">\n",
       "      <th></th>\n",
       "      <th>alcohol</th>\n",
       "      <th>malic_acid</th>\n",
       "      <th>ash</th>\n",
       "      <th>alcalinity_of_ash</th>\n",
       "      <th>magnesium</th>\n",
       "      <th>total_phenols</th>\n",
       "      <th>flavanoids</th>\n",
       "      <th>nonflavanoid_phenols</th>\n",
       "      <th>proanthocyanins</th>\n",
       "      <th>color_intensity</th>\n",
       "      <th>hue</th>\n",
       "      <th>od280/od315_of_diluted_wines</th>\n",
       "      <th>proline</th>\n",
       "    </tr>\n",
       "  </thead>\n",
       "  <tbody>\n",
       "    <tr>\n",
       "      <th>0</th>\n",
       "      <td>14.23</td>\n",
       "      <td>1.71</td>\n",
       "      <td>2.43</td>\n",
       "      <td>15.6</td>\n",
       "      <td>127.0</td>\n",
       "      <td>2.80</td>\n",
       "      <td>3.06</td>\n",
       "      <td>0.28</td>\n",
       "      <td>2.29</td>\n",
       "      <td>5.64</td>\n",
       "      <td>1.04</td>\n",
       "      <td>3.92</td>\n",
       "      <td>1065.0</td>\n",
       "    </tr>\n",
       "    <tr>\n",
       "      <th>1</th>\n",
       "      <td>13.20</td>\n",
       "      <td>1.78</td>\n",
       "      <td>2.14</td>\n",
       "      <td>11.2</td>\n",
       "      <td>100.0</td>\n",
       "      <td>2.65</td>\n",
       "      <td>2.76</td>\n",
       "      <td>0.26</td>\n",
       "      <td>1.28</td>\n",
       "      <td>4.38</td>\n",
       "      <td>1.05</td>\n",
       "      <td>3.40</td>\n",
       "      <td>1050.0</td>\n",
       "    </tr>\n",
       "    <tr>\n",
       "      <th>2</th>\n",
       "      <td>13.16</td>\n",
       "      <td>2.36</td>\n",
       "      <td>2.67</td>\n",
       "      <td>18.6</td>\n",
       "      <td>101.0</td>\n",
       "      <td>2.80</td>\n",
       "      <td>3.24</td>\n",
       "      <td>0.30</td>\n",
       "      <td>2.81</td>\n",
       "      <td>5.68</td>\n",
       "      <td>1.03</td>\n",
       "      <td>3.17</td>\n",
       "      <td>1185.0</td>\n",
       "    </tr>\n",
       "    <tr>\n",
       "      <th>3</th>\n",
       "      <td>14.37</td>\n",
       "      <td>1.95</td>\n",
       "      <td>2.50</td>\n",
       "      <td>16.8</td>\n",
       "      <td>113.0</td>\n",
       "      <td>3.85</td>\n",
       "      <td>3.49</td>\n",
       "      <td>0.24</td>\n",
       "      <td>2.18</td>\n",
       "      <td>7.80</td>\n",
       "      <td>0.86</td>\n",
       "      <td>3.45</td>\n",
       "      <td>1480.0</td>\n",
       "    </tr>\n",
       "    <tr>\n",
       "      <th>4</th>\n",
       "      <td>13.24</td>\n",
       "      <td>2.59</td>\n",
       "      <td>2.87</td>\n",
       "      <td>21.0</td>\n",
       "      <td>118.0</td>\n",
       "      <td>2.80</td>\n",
       "      <td>2.69</td>\n",
       "      <td>0.39</td>\n",
       "      <td>1.82</td>\n",
       "      <td>4.32</td>\n",
       "      <td>1.04</td>\n",
       "      <td>2.93</td>\n",
       "      <td>735.0</td>\n",
       "    </tr>\n",
       "  </tbody>\n",
       "</table>\n",
       "</div>"
      ],
      "text/plain": [
       "   alcohol  malic_acid   ash  alcalinity_of_ash  magnesium  total_phenols  \\\n",
       "0    14.23        1.71  2.43               15.6      127.0           2.80   \n",
       "1    13.20        1.78  2.14               11.2      100.0           2.65   \n",
       "2    13.16        2.36  2.67               18.6      101.0           2.80   \n",
       "3    14.37        1.95  2.50               16.8      113.0           3.85   \n",
       "4    13.24        2.59  2.87               21.0      118.0           2.80   \n",
       "\n",
       "   flavanoids  nonflavanoid_phenols  proanthocyanins  color_intensity   hue  \\\n",
       "0        3.06                  0.28             2.29             5.64  1.04   \n",
       "1        2.76                  0.26             1.28             4.38  1.05   \n",
       "2        3.24                  0.30             2.81             5.68  1.03   \n",
       "3        3.49                  0.24             2.18             7.80  0.86   \n",
       "4        2.69                  0.39             1.82             4.32  1.04   \n",
       "\n",
       "   od280/od315_of_diluted_wines  proline  \n",
       "0                          3.92   1065.0  \n",
       "1                          3.40   1050.0  \n",
       "2                          3.17   1185.0  \n",
       "3                          3.45   1480.0  \n",
       "4                          2.93    735.0  "
      ]
     },
     "execution_count": 2,
     "metadata": {},
     "output_type": "execute_result"
    }
   ],
   "source": [
    "data=pd.read_csv('wine.csv')\n",
    "data.head()"
   ]
  },
  {
   "cell_type": "markdown",
   "metadata": {},
   "source": [
    "(1)"
   ]
  },
  {
   "cell_type": "code",
   "execution_count": 3,
   "metadata": {},
   "outputs": [
    {
     "data": {
      "text/html": [
       "<div>\n",
       "<style scoped>\n",
       "    .dataframe tbody tr th:only-of-type {\n",
       "        vertical-align: middle;\n",
       "    }\n",
       "\n",
       "    .dataframe tbody tr th {\n",
       "        vertical-align: top;\n",
       "    }\n",
       "\n",
       "    .dataframe thead th {\n",
       "        text-align: right;\n",
       "    }\n",
       "</style>\n",
       "<table border=\"1\" class=\"dataframe\">\n",
       "  <thead>\n",
       "    <tr style=\"text-align: right;\">\n",
       "      <th></th>\n",
       "      <th>alcohol</th>\n",
       "      <th>malic_acid</th>\n",
       "      <th>ash</th>\n",
       "      <th>alcalinity_of_ash</th>\n",
       "      <th>magnesium</th>\n",
       "      <th>total_phenols</th>\n",
       "      <th>flavanoids</th>\n",
       "      <th>nonflavanoid_phenols</th>\n",
       "      <th>proanthocyanins</th>\n",
       "      <th>color_intensity</th>\n",
       "      <th>hue</th>\n",
       "      <th>od280/od315_of_diluted_wines</th>\n",
       "      <th>proline</th>\n",
       "    </tr>\n",
       "  </thead>\n",
       "  <tbody>\n",
       "    <tr>\n",
       "      <th>count</th>\n",
       "      <td>178.000000</td>\n",
       "      <td>178.000000</td>\n",
       "      <td>178.000000</td>\n",
       "      <td>178.000000</td>\n",
       "      <td>178.000000</td>\n",
       "      <td>178.000000</td>\n",
       "      <td>178.000000</td>\n",
       "      <td>178.000000</td>\n",
       "      <td>178.000000</td>\n",
       "      <td>178.000000</td>\n",
       "      <td>178.000000</td>\n",
       "      <td>178.000000</td>\n",
       "      <td>178.000000</td>\n",
       "    </tr>\n",
       "    <tr>\n",
       "      <th>mean</th>\n",
       "      <td>13.000618</td>\n",
       "      <td>2.336348</td>\n",
       "      <td>2.366517</td>\n",
       "      <td>19.494944</td>\n",
       "      <td>99.741573</td>\n",
       "      <td>2.295112</td>\n",
       "      <td>2.029270</td>\n",
       "      <td>0.361854</td>\n",
       "      <td>1.590899</td>\n",
       "      <td>5.058090</td>\n",
       "      <td>0.957449</td>\n",
       "      <td>2.611685</td>\n",
       "      <td>746.893258</td>\n",
       "    </tr>\n",
       "    <tr>\n",
       "      <th>std</th>\n",
       "      <td>0.811827</td>\n",
       "      <td>1.117146</td>\n",
       "      <td>0.274344</td>\n",
       "      <td>3.339564</td>\n",
       "      <td>14.282484</td>\n",
       "      <td>0.625851</td>\n",
       "      <td>0.998859</td>\n",
       "      <td>0.124453</td>\n",
       "      <td>0.572359</td>\n",
       "      <td>2.318286</td>\n",
       "      <td>0.228572</td>\n",
       "      <td>0.709990</td>\n",
       "      <td>314.907474</td>\n",
       "    </tr>\n",
       "    <tr>\n",
       "      <th>min</th>\n",
       "      <td>11.030000</td>\n",
       "      <td>0.740000</td>\n",
       "      <td>1.360000</td>\n",
       "      <td>10.600000</td>\n",
       "      <td>70.000000</td>\n",
       "      <td>0.980000</td>\n",
       "      <td>0.340000</td>\n",
       "      <td>0.130000</td>\n",
       "      <td>0.410000</td>\n",
       "      <td>1.280000</td>\n",
       "      <td>0.480000</td>\n",
       "      <td>1.270000</td>\n",
       "      <td>278.000000</td>\n",
       "    </tr>\n",
       "    <tr>\n",
       "      <th>25%</th>\n",
       "      <td>12.362500</td>\n",
       "      <td>1.602500</td>\n",
       "      <td>2.210000</td>\n",
       "      <td>17.200000</td>\n",
       "      <td>88.000000</td>\n",
       "      <td>1.742500</td>\n",
       "      <td>1.205000</td>\n",
       "      <td>0.270000</td>\n",
       "      <td>1.250000</td>\n",
       "      <td>3.220000</td>\n",
       "      <td>0.782500</td>\n",
       "      <td>1.937500</td>\n",
       "      <td>500.500000</td>\n",
       "    </tr>\n",
       "    <tr>\n",
       "      <th>50%</th>\n",
       "      <td>13.050000</td>\n",
       "      <td>1.865000</td>\n",
       "      <td>2.360000</td>\n",
       "      <td>19.500000</td>\n",
       "      <td>98.000000</td>\n",
       "      <td>2.355000</td>\n",
       "      <td>2.135000</td>\n",
       "      <td>0.340000</td>\n",
       "      <td>1.555000</td>\n",
       "      <td>4.690000</td>\n",
       "      <td>0.965000</td>\n",
       "      <td>2.780000</td>\n",
       "      <td>673.500000</td>\n",
       "    </tr>\n",
       "    <tr>\n",
       "      <th>75%</th>\n",
       "      <td>13.677500</td>\n",
       "      <td>3.082500</td>\n",
       "      <td>2.557500</td>\n",
       "      <td>21.500000</td>\n",
       "      <td>107.000000</td>\n",
       "      <td>2.800000</td>\n",
       "      <td>2.875000</td>\n",
       "      <td>0.437500</td>\n",
       "      <td>1.950000</td>\n",
       "      <td>6.200000</td>\n",
       "      <td>1.120000</td>\n",
       "      <td>3.170000</td>\n",
       "      <td>985.000000</td>\n",
       "    </tr>\n",
       "    <tr>\n",
       "      <th>max</th>\n",
       "      <td>14.830000</td>\n",
       "      <td>5.800000</td>\n",
       "      <td>3.230000</td>\n",
       "      <td>30.000000</td>\n",
       "      <td>162.000000</td>\n",
       "      <td>3.880000</td>\n",
       "      <td>5.080000</td>\n",
       "      <td>0.660000</td>\n",
       "      <td>3.580000</td>\n",
       "      <td>13.000000</td>\n",
       "      <td>1.710000</td>\n",
       "      <td>4.000000</td>\n",
       "      <td>1680.000000</td>\n",
       "    </tr>\n",
       "  </tbody>\n",
       "</table>\n",
       "</div>"
      ],
      "text/plain": [
       "          alcohol  malic_acid         ash  alcalinity_of_ash   magnesium  \\\n",
       "count  178.000000  178.000000  178.000000         178.000000  178.000000   \n",
       "mean    13.000618    2.336348    2.366517          19.494944   99.741573   \n",
       "std      0.811827    1.117146    0.274344           3.339564   14.282484   \n",
       "min     11.030000    0.740000    1.360000          10.600000   70.000000   \n",
       "25%     12.362500    1.602500    2.210000          17.200000   88.000000   \n",
       "50%     13.050000    1.865000    2.360000          19.500000   98.000000   \n",
       "75%     13.677500    3.082500    2.557500          21.500000  107.000000   \n",
       "max     14.830000    5.800000    3.230000          30.000000  162.000000   \n",
       "\n",
       "       total_phenols  flavanoids  nonflavanoid_phenols  proanthocyanins  \\\n",
       "count     178.000000  178.000000            178.000000       178.000000   \n",
       "mean        2.295112    2.029270              0.361854         1.590899   \n",
       "std         0.625851    0.998859              0.124453         0.572359   \n",
       "min         0.980000    0.340000              0.130000         0.410000   \n",
       "25%         1.742500    1.205000              0.270000         1.250000   \n",
       "50%         2.355000    2.135000              0.340000         1.555000   \n",
       "75%         2.800000    2.875000              0.437500         1.950000   \n",
       "max         3.880000    5.080000              0.660000         3.580000   \n",
       "\n",
       "       color_intensity         hue  od280/od315_of_diluted_wines      proline  \n",
       "count       178.000000  178.000000                    178.000000   178.000000  \n",
       "mean          5.058090    0.957449                      2.611685   746.893258  \n",
       "std           2.318286    0.228572                      0.709990   314.907474  \n",
       "min           1.280000    0.480000                      1.270000   278.000000  \n",
       "25%           3.220000    0.782500                      1.937500   500.500000  \n",
       "50%           4.690000    0.965000                      2.780000   673.500000  \n",
       "75%           6.200000    1.120000                      3.170000   985.000000  \n",
       "max          13.000000    1.710000                      4.000000  1680.000000  "
      ]
     },
     "execution_count": 3,
     "metadata": {},
     "output_type": "execute_result"
    }
   ],
   "source": [
    "# comando per ottenere le statistiche descrittive del dataset, inclusi i quantili\n",
    "data.describe()"
   ]
  },
  {
   "cell_type": "code",
   "execution_count": 4,
   "metadata": {},
   "outputs": [
    {
     "data": {
      "image/png": "[encoded data removed]",
      "text/plain": [
       "<Figure size 640x480 with 1 Axes>"
      ]
     },
     "metadata": {},
     "output_type": "display_data"
    }
   ],
   "source": [
    "sns.scatterplot(data, x= 'total_phenols' , y='color_intensity')\n",
    "plt.show()"
   ]
  },
  {
   "cell_type": "markdown",
   "metadata": {},
   "source": [
    "(2)"
   ]
  },
  {
   "cell_type": "code",
   "execution_count": 5,
   "metadata": {},
   "outputs": [
    {
     "data": {
      "image/png": "[encoded data removed]",
      "text/plain": [
       "<Figure size 640x480 with 2 Axes>"
      ]
     },
     "metadata": {},
     "output_type": "display_data"
    }
   ],
   "source": [
    "sns.heatmap(data.corr().round(1),annot=True,cmap='coolwarm',vmin=-1,vmax=1)\n",
    "plt.show()"
   ]
  },
  {
   "cell_type": "markdown",
   "metadata": {},
   "source": [
    "(3)"
   ]
  },
  {
   "cell_type": "code",
   "execution_count": 6,
   "metadata": {},
   "outputs": [],
   "source": [
    "from scipy.stats import pearsonr \n",
    "from scipy.stats import spearmanr\n",
    "import statsmodels.api as sm\n",
    "import numpy as np"
   ]
  },
  {
   "cell_type": "code",
   "execution_count": 7,
   "metadata": {},
   "outputs": [
    {
     "name": "stdout",
     "output_type": "stream",
     "text": [
      "total_phenols-color_intensity\n",
      "SignificanceResult(statistic=0.011161793956834237, pvalue=0.8824435092354216)\n",
      "\n",
      "\n",
      "total_phenols-alcohol\n",
      "SignificanceResult(statistic=0.31092006981517456, pvalue=2.3985318938106053e-05)\n"
     ]
    }
   ],
   "source": [
    "print('total_phenols-color_intensity')\n",
    "print(spearmanr(data['total_phenols'], data['color_intensity']))\n",
    "print('\\n\\ntotal_phenols-alcohol')\n",
    "print(spearmanr(data['total_phenols'], data['alcohol']))"
   ]
  },
  {
   "cell_type": "markdown",
   "metadata": {},
   "source": [
    "- Per il coefficente di correlazione di Spearman con un livello di significatività del 95% NON si può rifiutare l'ipotesi nulla che 'total_phenols' e 'color_intensity' siano scorrelati\n",
    "- Invece per il coefficente di correlazione di Spearman con un livello di significatività del 95% si può rifiutare l'ipotesi nulla che 'total_phenols' e 'alcohol' siano scorrelati"
   ]
  },
  {
   "cell_type": "markdown",
   "metadata": {},
   "source": [
    "(4)"
   ]
  },
  {
   "cell_type": "code",
   "execution_count": 8,
   "metadata": {},
   "outputs": [
    {
     "data": {
      "text/html": [
       "<table class=\"simpletable\">\n",
       "<caption>OLS Regression Results</caption>\n",
       "<tr>\n",
       "  <th>Dep. Variable:</th>         <td>alcohol</td>     <th>  R-squared:         </th> <td>   0.299</td>\n",
       "</tr>\n",
       "<tr>\n",
       "  <th>Model:</th>                   <td>OLS</td>       <th>  Adj. R-squared:    </th> <td>   0.295</td>\n",
       "</tr>\n",
       "<tr>\n",
       "  <th>Method:</th>             <td>Least Squares</td>  <th>  F-statistic:       </th> <td>   74.90</td>\n",
       "</tr>\n",
       "<tr>\n",
       "  <th>Date:</th>             <td>Tue, 09 Apr 2024</td> <th>  Prob (F-statistic):</th> <td>3.06e-15</td>\n",
       "</tr>\n",
       "<tr>\n",
       "  <th>Time:</th>                 <td>19:24:03</td>     <th>  Log-Likelihood:    </th> <td> -183.41</td>\n",
       "</tr>\n",
       "<tr>\n",
       "  <th>No. Observations:</th>      <td>   178</td>      <th>  AIC:               </th> <td>   370.8</td>\n",
       "</tr>\n",
       "<tr>\n",
       "  <th>Df Residuals:</th>          <td>   176</td>      <th>  BIC:               </th> <td>   377.2</td>\n",
       "</tr>\n",
       "<tr>\n",
       "  <th>Df Model:</th>              <td>     1</td>      <th>                     </th>     <td> </td>   \n",
       "</tr>\n",
       "<tr>\n",
       "  <th>Covariance Type:</th>      <td>nonrobust</td>    <th>                     </th>     <td> </td>   \n",
       "</tr>\n",
       "</table>\n",
       "<table class=\"simpletable\">\n",
       "<tr>\n",
       "         <td></td>            <th>coef</th>     <th>std err</th>      <th>t</th>      <th>P>|t|</th>  <th>[0.025</th>    <th>0.975]</th>  \n",
       "</tr>\n",
       "<tr>\n",
       "  <th>const</th>           <td>   12.0329</td> <td>    0.123</td> <td>   97.868</td> <td> 0.000</td> <td>   11.790</td> <td>   12.276</td>\n",
       "</tr>\n",
       "<tr>\n",
       "  <th>color_intensity</th> <td>    0.1913</td> <td>    0.022</td> <td>    8.654</td> <td> 0.000</td> <td>    0.148</td> <td>    0.235</td>\n",
       "</tr>\n",
       "</table>\n",
       "<table class=\"simpletable\">\n",
       "<tr>\n",
       "  <th>Omnibus:</th>       <td> 2.882</td> <th>  Durbin-Watson:     </th> <td>   1.009</td>\n",
       "</tr>\n",
       "<tr>\n",
       "  <th>Prob(Omnibus):</th> <td> 0.237</td> <th>  Jarque-Bera (JB):  </th> <td>   2.136</td>\n",
       "</tr>\n",
       "<tr>\n",
       "  <th>Skew:</th>          <td> 0.099</td> <th>  Prob(JB):          </th> <td>   0.344</td>\n",
       "</tr>\n",
       "<tr>\n",
       "  <th>Kurtosis:</th>      <td> 2.501</td> <th>  Cond. No.          </th> <td>    13.7</td>\n",
       "</tr>\n",
       "</table><br/><br/>Notes:<br/>[1] Standard Errors assume that the covariance matrix of the errors is correctly specified."
      ],
      "text/latex": [
       "\\begin{center}\n",
       "\\begin{tabular}{lclc}\n",
       "\\toprule\n",
       "\\textbf{Dep. Variable:}    &     alcohol      & \\textbf{  R-squared:         } &     0.299   \\\\\n",
       "\\textbf{Model:}            &       OLS        & \\textbf{  Adj. R-squared:    } &     0.295   \\\\\n",
       "\\textbf{Method:}           &  Least Squares   & \\textbf{  F-statistic:       } &     74.90   \\\\\n",
       "\\textbf{Date:}             & Tue, 09 Apr 2024 & \\textbf{  Prob (F-statistic):} &  3.06e-15   \\\\\n",
       "\\textbf{Time:}             &     19:24:03     & \\textbf{  Log-Likelihood:    } &   -183.41   \\\\\n",
       "\\textbf{No. Observations:} &         178      & \\textbf{  AIC:               } &     370.8   \\\\\n",
       "\\textbf{Df Residuals:}     &         176      & \\textbf{  BIC:               } &     377.2   \\\\\n",
       "\\textbf{Df Model:}         &           1      & \\textbf{                     } &             \\\\\n",
       "\\textbf{Covariance Type:}  &    nonrobust     & \\textbf{                     } &             \\\\\n",
       "\\bottomrule\n",
       "\\end{tabular}\n",
       "\\begin{tabular}{lcccccc}\n",
       "                          & \\textbf{coef} & \\textbf{std err} & \\textbf{t} & \\textbf{P$> |$t$|$} & \\textbf{[0.025} & \\textbf{0.975]}  \\\\\n",
       "\\midrule\n",
       "\\textbf{const}            &      12.0329  &        0.123     &    97.868  &         0.000        &       11.790    &       12.276     \\\\\n",
       "\\textbf{color\\_intensity} &       0.1913  &        0.022     &     8.654  &         0.000        &        0.148    &        0.235     \\\\\n",
       "\\bottomrule\n",
       "\\end{tabular}\n",
       "\\begin{tabular}{lclc}\n",
       "\\textbf{Omnibus:}       &  2.882 & \\textbf{  Durbin-Watson:     } &    1.009  \\\\\n",
       "\\textbf{Prob(Omnibus):} &  0.237 & \\textbf{  Jarque-Bera (JB):  } &    2.136  \\\\\n",
       "\\textbf{Skew:}          &  0.099 & \\textbf{  Prob(JB):          } &    0.344  \\\\\n",
       "\\textbf{Kurtosis:}      &  2.501 & \\textbf{  Cond. No.          } &     13.7  \\\\\n",
       "\\bottomrule\n",
       "\\end{tabular}\n",
       "%\\caption{OLS Regression Results}\n",
       "\\end{center}\n",
       "\n",
       "Notes: \\newline\n",
       " [1] Standard Errors assume that the covariance matrix of the errors is correctly specified."
      ],
      "text/plain": [
       "<class 'statsmodels.iolib.summary.Summary'>\n",
       "\"\"\"\n",
       "                            OLS Regression Results                            \n",
       "==============================================================================\n",
       "Dep. Variable:                alcohol   R-squared:                       0.299\n",
       "Model:                            OLS   Adj. R-squared:                  0.295\n",
       "Method:                 Least Squares   F-statistic:                     74.90\n",
       "Date:                Tue, 09 Apr 2024   Prob (F-statistic):           3.06e-15\n",
       "Time:                        19:24:03   Log-Likelihood:                -183.41\n",
       "No. Observations:                 178   AIC:                             370.8\n",
       "Df Residuals:                     176   BIC:                             377.2\n",
       "Df Model:                           1                                         \n",
       "Covariance Type:            nonrobust                                         \n",
       "===================================================================================\n",
       "                      coef    std err          t      P>|t|      [0.025      0.975]\n",
       "-----------------------------------------------------------------------------------\n",
       "const              12.0329      0.123     97.868      0.000      11.790      12.276\n",
       "color_intensity     0.1913      0.022      8.654      0.000       0.148       0.235\n",
       "==============================================================================\n",
       "Omnibus:                        2.882   Durbin-Watson:                   1.009\n",
       "Prob(Omnibus):                  0.237   Jarque-Bera (JB):                2.136\n",
       "Skew:                           0.099   Prob(JB):                        0.344\n",
       "Kurtosis:                       2.501   Cond. No.                         13.7\n",
       "==============================================================================\n",
       "\n",
       "Notes:\n",
       "[1] Standard Errors assume that the covariance matrix of the errors is correctly specified.\n",
       "\"\"\""
      ]
     },
     "execution_count": 8,
     "metadata": {},
     "output_type": "execute_result"
    }
   ],
   "source": [
    "X = sm.add_constant(data[['color_intensity']])\n",
    "y = data[['alcohol']]\n",
    "\n",
    "lm = sm.OLS(y,X).fit()\n",
    "lm.summary()"
   ]
  },
  {
   "cell_type": "code",
   "execution_count": 9,
   "metadata": {},
   "outputs": [
    {
     "name": "stderr",
     "output_type": "stream",
     "text": [
      "/var/folders/15/28q_ssxd08v248d65c73hv3h0000gn/T/ipykernel_12561/3450050449.py:3: FutureWarning: Series.__getitem__ treating keys as positions is deprecated. In a future version, integer keys will always be treated as labels (consistent with DataFrame behavior). To access a value by position, use `ser.iloc[pos]`\n",
      "  plt.plot(x, x*lm.params[1]+lm.params[0], color='r')\n"
     ]
    },
    {
     "data": {
      "image/png": "[encoded data removed]",
      "text/plain": [
       "<Figure size 640x480 with 1 Axes>"
      ]
     },
     "metadata": {},
     "output_type": "display_data"
    }
   ],
   "source": [
    "x = np.array(data[['color_intensity']].values)\n",
    "sns.scatterplot(data, x= 'color_intensity' , y='alcohol')\n",
    "plt.plot(x, x*lm.params[1]+lm.params[0], color='r')\n",
    "plt.show()"
   ]
  },
  {
   "cell_type": "code",
   "execution_count": 10,
   "metadata": {},
   "outputs": [
    {
     "data": {
      "text/html": [
       "<div>\n",
       "<style scoped>\n",
       "    .dataframe tbody tr th:only-of-type {\n",
       "        vertical-align: middle;\n",
       "    }\n",
       "\n",
       "    .dataframe tbody tr th {\n",
       "        vertical-align: top;\n",
       "    }\n",
       "\n",
       "    .dataframe thead th {\n",
       "        text-align: right;\n",
       "    }\n",
       "</style>\n",
       "<table border=\"1\" class=\"dataframe\">\n",
       "  <thead>\n",
       "    <tr style=\"text-align: right;\">\n",
       "      <th></th>\n",
       "      <th>0</th>\n",
       "      <th>1</th>\n",
       "    </tr>\n",
       "  </thead>\n",
       "  <tbody>\n",
       "    <tr>\n",
       "      <th>const</th>\n",
       "      <td>11.790217</td>\n",
       "      <td>12.275510</td>\n",
       "    </tr>\n",
       "    <tr>\n",
       "      <th>color_intensity</th>\n",
       "      <td>0.147697</td>\n",
       "      <td>0.234959</td>\n",
       "    </tr>\n",
       "  </tbody>\n",
       "</table>\n",
       "</div>"
      ],
      "text/plain": [
       "                         0          1\n",
       "const            11.790217  12.275510\n",
       "color_intensity   0.147697   0.234959"
      ]
     },
     "execution_count": 10,
     "metadata": {},
     "output_type": "execute_result"
    }
   ],
   "source": [
    "lm.params\n",
    "lm.conf_int(alpha=0.05)"
   ]
  },
  {
   "cell_type": "markdown",
   "metadata": {},
   "source": [
    "Come si evince sia dal summary() che da 'lm.conf_int(alpha=0.05)' il parametro della regressione lineare legato a 'color_intensity' è diverso da 0 al 95% di significatività, quindi influisce nella determinazione di y"
   ]
  },
  {
   "cell_type": "markdown",
   "metadata": {},
   "source": [
    "(5)"
   ]
  },
  {
   "cell_type": "code",
   "execution_count": 11,
   "metadata": {},
   "outputs": [],
   "source": [
    "X2 = sm.add_constant(data[['color_intensity', 'proline']])\n",
    "y = data[['alcohol']]\n",
    "lm2 = sm.OLS(y,X2).fit()\n",
    "\n",
    "\n",
    "\n",
    "X3 = sm.add_constant(data[['color_intensity', 'proline', 'magnesium']])\n",
    "y = data[['alcohol']]\n",
    "\n",
    "lm3 = sm.OLS(y,X3).fit()"
   ]
  },
  {
   "cell_type": "code",
   "execution_count": 12,
   "metadata": {},
   "outputs": [
    {
     "name": "stdout",
     "output_type": "stream",
     "text": [
      "AIC 1° modello\n",
      "370.8138523254096\n",
      "\n",
      "\n",
      "AIC 2° modello\n",
      "295.75829503362104\n",
      "\n",
      "\n",
      "AIC 3° modello\n",
      "297.6996464072716\n"
     ]
    }
   ],
   "source": [
    "print('AIC 1° modello')\n",
    "print(lm.aic)\n",
    "\n",
    "\n",
    "print('\\n\\nAIC 2° modello')\n",
    "print(lm2.aic)\n",
    "\n",
    "print('\\n\\nAIC 3° modello')\n",
    "print(lm3.aic)"
   ]
  },
  {
   "cell_type": "code",
   "execution_count": 13,
   "metadata": {},
   "outputs": [
    {
     "name": "stdout",
     "output_type": "stream",
     "text": [
      "                            OLS Regression Results                            \n",
      "==============================================================================\n",
      "Dep. Variable:                alcohol   R-squared:                       0.545\n",
      "Model:                            OLS   Adj. R-squared:                  0.540\n",
      "Method:                 Least Squares   F-statistic:                     104.8\n",
      "Date:                Tue, 09 Apr 2024   Prob (F-statistic):           1.19e-30\n",
      "Time:                        19:24:04   Log-Likelihood:                -144.88\n",
      "No. Observations:                 178   AIC:                             295.8\n",
      "Df Residuals:                     175   BIC:                             305.3\n",
      "Df Model:                           2                                         \n",
      "Covariance Type:            nonrobust                                         \n",
      "===================================================================================\n",
      "                      coef    std err          t      P>|t|      [0.025      0.975]\n",
      "-----------------------------------------------------------------------------------\n",
      "const              11.3183      0.123     91.659      0.000      11.075      11.562\n",
      "color_intensity     0.1334      0.019      7.088      0.000       0.096       0.171\n",
      "proline             0.0013      0.000      9.737      0.000       0.001       0.002\n",
      "==============================================================================\n",
      "Omnibus:                        0.886   Durbin-Watson:                   1.855\n",
      "Prob(Omnibus):                  0.642   Jarque-Bera (JB):                0.907\n",
      "Skew:                           0.167   Prob(JB):                        0.635\n",
      "Kurtosis:                       2.897   Cond. No.                     2.43e+03\n",
      "==============================================================================\n",
      "\n",
      "Notes:\n",
      "[1] Standard Errors assume that the covariance matrix of the errors is correctly specified.\n",
      "[2] The condition number is large, 2.43e+03. This might indicate that there are\n",
      "strong multicollinearity or other numerical problems.\n"
     ]
    },
    {
     "data": {
      "text/html": [
       "<div>\n",
       "<style scoped>\n",
       "    .dataframe tbody tr th:only-of-type {\n",
       "        vertical-align: middle;\n",
       "    }\n",
       "\n",
       "    .dataframe tbody tr th {\n",
       "        vertical-align: top;\n",
       "    }\n",
       "\n",
       "    .dataframe thead th {\n",
       "        text-align: right;\n",
       "    }\n",
       "</style>\n",
       "<table border=\"1\" class=\"dataframe\">\n",
       "  <thead>\n",
       "    <tr style=\"text-align: right;\">\n",
       "      <th></th>\n",
       "      <th>0</th>\n",
       "      <th>1</th>\n",
       "    </tr>\n",
       "  </thead>\n",
       "  <tbody>\n",
       "    <tr>\n",
       "      <th>const</th>\n",
       "      <td>11.074544</td>\n",
       "      <td>11.561958</td>\n",
       "    </tr>\n",
       "    <tr>\n",
       "      <th>color_intensity</th>\n",
       "      <td>0.096257</td>\n",
       "      <td>0.170547</td>\n",
       "    </tr>\n",
       "    <tr>\n",
       "      <th>proline</th>\n",
       "      <td>0.001076</td>\n",
       "      <td>0.001623</td>\n",
       "    </tr>\n",
       "  </tbody>\n",
       "</table>\n",
       "</div>"
      ],
      "text/plain": [
       "                         0          1\n",
       "const            11.074544  11.561958\n",
       "color_intensity   0.096257   0.170547\n",
       "proline           0.001076   0.001623"
      ]
     },
     "execution_count": 13,
     "metadata": {},
     "output_type": "execute_result"
    }
   ],
   "source": [
    "print(lm2.summary())\n",
    "lm2.conf_int(alpha=0.05)"
   ]
  },
  {
   "cell_type": "markdown",
   "metadata": {},
   "source": [
    "**PARAMETRI SECONDO MODELLO**\n",
    "\n",
    "Nel secondo modello ad un livello di significatività del 95% per tutti i parametri della regressione possiamo rigettare l'ipotesi nulla che essi siano zero"
   ]
  },
  {
   "cell_type": "code",
   "execution_count": 14,
   "metadata": {},
   "outputs": [
    {
     "name": "stdout",
     "output_type": "stream",
     "text": [
      "                            OLS Regression Results                            \n",
      "==============================================================================\n",
      "Dep. Variable:                alcohol   R-squared:                       0.545\n",
      "Model:                            OLS   Adj. R-squared:                  0.537\n",
      "Method:                 Least Squares   F-statistic:                     69.51\n",
      "Date:                Tue, 09 Apr 2024   Prob (F-statistic):           1.35e-29\n",
      "Time:                        19:24:04   Log-Likelihood:                -144.85\n",
      "No. Observations:                 178   AIC:                             297.7\n",
      "Df Residuals:                     174   BIC:                             310.4\n",
      "Df Model:                           3                                         \n",
      "Covariance Type:            nonrobust                                         \n",
      "===================================================================================\n",
      "                      coef    std err          t      P>|t|      [0.025      0.975]\n",
      "-----------------------------------------------------------------------------------\n",
      "const              11.3826      0.296     38.469      0.000      10.799      11.967\n",
      "color_intensity     0.1338      0.019      7.063      0.000       0.096       0.171\n",
      "proline             0.0014      0.000      9.162      0.000       0.001       0.002\n",
      "magnesium          -0.0008      0.003     -0.239      0.811      -0.007       0.006\n",
      "==============================================================================\n",
      "Omnibus:                        0.889   Durbin-Watson:                   1.856\n",
      "Prob(Omnibus):                  0.641   Jarque-Bera (JB):                0.927\n",
      "Skew:                           0.167   Prob(JB):                        0.629\n",
      "Kurtosis:                       2.883   Cond. No.                     5.83e+03\n",
      "==============================================================================\n",
      "\n",
      "Notes:\n",
      "[1] Standard Errors assume that the covariance matrix of the errors is correctly specified.\n",
      "[2] The condition number is large, 5.83e+03. This might indicate that there are\n",
      "strong multicollinearity or other numerical problems.\n"
     ]
    },
    {
     "data": {
      "text/html": [
       "<div>\n",
       "<style scoped>\n",
       "    .dataframe tbody tr th:only-of-type {\n",
       "        vertical-align: middle;\n",
       "    }\n",
       "\n",
       "    .dataframe tbody tr th {\n",
       "        vertical-align: top;\n",
       "    }\n",
       "\n",
       "    .dataframe thead th {\n",
       "        text-align: right;\n",
       "    }\n",
       "</style>\n",
       "<table border=\"1\" class=\"dataframe\">\n",
       "  <thead>\n",
       "    <tr style=\"text-align: right;\">\n",
       "      <th></th>\n",
       "      <th>0</th>\n",
       "      <th>1</th>\n",
       "    </tr>\n",
       "  </thead>\n",
       "  <tbody>\n",
       "    <tr>\n",
       "      <th>const</th>\n",
       "      <td>10.798602</td>\n",
       "      <td>11.966606</td>\n",
       "    </tr>\n",
       "    <tr>\n",
       "      <th>color_intensity</th>\n",
       "      <td>0.096407</td>\n",
       "      <td>0.171183</td>\n",
       "    </tr>\n",
       "    <tr>\n",
       "      <th>proline</th>\n",
       "      <td>0.001068</td>\n",
       "      <td>0.001655</td>\n",
       "    </tr>\n",
       "    <tr>\n",
       "      <th>magnesium</th>\n",
       "      <td>-0.007022</td>\n",
       "      <td>0.005503</td>\n",
       "    </tr>\n",
       "  </tbody>\n",
       "</table>\n",
       "</div>"
      ],
      "text/plain": [
       "                         0          1\n",
       "const            10.798602  11.966606\n",
       "color_intensity   0.096407   0.171183\n",
       "proline           0.001068   0.001655\n",
       "magnesium        -0.007022   0.005503"
      ]
     },
     "execution_count": 14,
     "metadata": {},
     "output_type": "execute_result"
    }
   ],
   "source": [
    "print(lm3.summary())\n",
    "lm3.conf_int(alpha=0.05)"
   ]
  },
  {
   "cell_type": "markdown",
   "metadata": {},
   "source": [
    "**PARAMETRI TERZO MODELLO**\n",
    "\n",
    "Nel terzo modello ad un livello di significatività del 95% per i parametri relativi a ['const', 'color_intensity' e 'proline'] della regressione possiamo rigettare l'ipotesi nulla che essi siano zero\n",
    "\n",
    "Mentre per ['magnesium'] (sempre con un livello di significatività del 95 %) NON possiamo rigettare l'ipotesi nulla che sia uguale a zero"
   ]
  },
  {
   "cell_type": "markdown",
   "metadata": {},
   "source": [
    "**MODEL SELECTION**\n",
    "\n",
    "Il modello migliore è quello con l'AIC più basso ovvero il secondo modello (quello con 'color_intensity' e 'proline')"
   ]
  },
  {
   "cell_type": "markdown",
   "metadata": {},
   "source": [
    "***\n",
    "***\n",
    "***"
   ]
  },
  {
   "cell_type": "markdown",
   "metadata": {},
   "source": [
    "## 3. Exercise (10 points total)"
   ]
  },
  {
   "cell_type": "markdown",
   "metadata": {},
   "source": [
    "\n",
    "The dataset diagnoses.csv contains features computed from digitized images of fine needle aspirate (FNA) of a breast mass. The features describe various characteristics X of cell nuclei present in the images. Each instance in the dataset represents a sample from a patient, and the task is to predict whether the sample is benign (y = 0) or malignant (y = 1).\n",
    "\n",
    "(1) Compute the Pearson correlation coefficient between ’smoothness1’ and ’compactness1’; ’smooth- ness1’ and ’texture1’. Then discuss if they are significant at the 95% confidence level. (2 points)\n",
    "\n",
    "(2) Write down the logistic regression model: X=[’texture1’, ’area1’, ’compactness1’, ’concave_points1’]], y=’diagnosis’. Fit WITHOUT the constant. (3 points)\n",
    "\n",
    "(3) Look at the output of the logistic regression model. Formally, which predictors have a significant influence on the response, at the 95% confidence level? Motivate your answer. (3 points)\n",
    "\n",
    "(4) Estimate the probability for y = 1 with X_test1=[18,500,0.2,0.05] and X_test2=[10,40,0.14,0.06]. What would be your prediction for y in these cases? (2 points)"
   ]
  },
  {
   "cell_type": "code",
   "execution_count": 15,
   "metadata": {},
   "outputs": [
    {
     "data": {
      "text/html": [
       "<div>\n",
       "<style scoped>\n",
       "    .dataframe tbody tr th:only-of-type {\n",
       "        vertical-align: middle;\n",
       "    }\n",
       "\n",
       "    .dataframe tbody tr th {\n",
       "        vertical-align: top;\n",
       "    }\n",
       "\n",
       "    .dataframe thead th {\n",
       "        text-align: right;\n",
       "    }\n",
       "</style>\n",
       "<table border=\"1\" class=\"dataframe\">\n",
       "  <thead>\n",
       "    <tr style=\"text-align: right;\">\n",
       "      <th></th>\n",
       "      <th>radius1</th>\n",
       "      <th>texture1</th>\n",
       "      <th>perimeter1</th>\n",
       "      <th>area1</th>\n",
       "      <th>smoothness1</th>\n",
       "      <th>compactness1</th>\n",
       "      <th>concavity1</th>\n",
       "      <th>concave_points1</th>\n",
       "      <th>symmetry1</th>\n",
       "      <th>fractal_dimension1</th>\n",
       "      <th>diagnosis</th>\n",
       "    </tr>\n",
       "  </thead>\n",
       "  <tbody>\n",
       "    <tr>\n",
       "      <th>0</th>\n",
       "      <td>17.99</td>\n",
       "      <td>10.38</td>\n",
       "      <td>122.80</td>\n",
       "      <td>1001.0</td>\n",
       "      <td>0.11840</td>\n",
       "      <td>0.27760</td>\n",
       "      <td>0.3001</td>\n",
       "      <td>0.14710</td>\n",
       "      <td>0.2419</td>\n",
       "      <td>0.07871</td>\n",
       "      <td>1</td>\n",
       "    </tr>\n",
       "    <tr>\n",
       "      <th>1</th>\n",
       "      <td>20.57</td>\n",
       "      <td>17.77</td>\n",
       "      <td>132.90</td>\n",
       "      <td>1326.0</td>\n",
       "      <td>0.08474</td>\n",
       "      <td>0.07864</td>\n",
       "      <td>0.0869</td>\n",
       "      <td>0.07017</td>\n",
       "      <td>0.1812</td>\n",
       "      <td>0.05667</td>\n",
       "      <td>1</td>\n",
       "    </tr>\n",
       "    <tr>\n",
       "      <th>2</th>\n",
       "      <td>19.69</td>\n",
       "      <td>21.25</td>\n",
       "      <td>130.00</td>\n",
       "      <td>1203.0</td>\n",
       "      <td>0.10960</td>\n",
       "      <td>0.15990</td>\n",
       "      <td>0.1974</td>\n",
       "      <td>0.12790</td>\n",
       "      <td>0.2069</td>\n",
       "      <td>0.05999</td>\n",
       "      <td>1</td>\n",
       "    </tr>\n",
       "    <tr>\n",
       "      <th>3</th>\n",
       "      <td>11.42</td>\n",
       "      <td>20.38</td>\n",
       "      <td>77.58</td>\n",
       "      <td>386.1</td>\n",
       "      <td>0.14250</td>\n",
       "      <td>0.28390</td>\n",
       "      <td>0.2414</td>\n",
       "      <td>0.10520</td>\n",
       "      <td>0.2597</td>\n",
       "      <td>0.09744</td>\n",
       "      <td>1</td>\n",
       "    </tr>\n",
       "    <tr>\n",
       "      <th>4</th>\n",
       "      <td>20.29</td>\n",
       "      <td>14.34</td>\n",
       "      <td>135.10</td>\n",
       "      <td>1297.0</td>\n",
       "      <td>0.10030</td>\n",
       "      <td>0.13280</td>\n",
       "      <td>0.1980</td>\n",
       "      <td>0.10430</td>\n",
       "      <td>0.1809</td>\n",
       "      <td>0.05883</td>\n",
       "      <td>1</td>\n",
       "    </tr>\n",
       "  </tbody>\n",
       "</table>\n",
       "</div>"
      ],
      "text/plain": [
       "   radius1  texture1  perimeter1   area1  smoothness1  compactness1  \\\n",
       "0    17.99     10.38      122.80  1001.0      0.11840       0.27760   \n",
       "1    20.57     17.77      132.90  1326.0      0.08474       0.07864   \n",
       "2    19.69     21.25      130.00  1203.0      0.10960       0.15990   \n",
       "3    11.42     20.38       77.58   386.1      0.14250       0.28390   \n",
       "4    20.29     14.34      135.10  1297.0      0.10030       0.13280   \n",
       "\n",
       "   concavity1  concave_points1  symmetry1  fractal_dimension1  diagnosis  \n",
       "0      0.3001          0.14710     0.2419             0.07871          1  \n",
       "1      0.0869          0.07017     0.1812             0.05667          1  \n",
       "2      0.1974          0.12790     0.2069             0.05999          1  \n",
       "3      0.2414          0.10520     0.2597             0.09744          1  \n",
       "4      0.1980          0.10430     0.1809             0.05883          1  "
      ]
     },
     "execution_count": 15,
     "metadata": {},
     "output_type": "execute_result"
    }
   ],
   "source": [
    "data=pd.read_csv('diagnoses.csv')\n",
    "data.head()"
   ]
  },
  {
   "cell_type": "markdown",
   "metadata": {},
   "source": [
    "(1)"
   ]
  },
  {
   "cell_type": "code",
   "execution_count": 16,
   "metadata": {},
   "outputs": [
    {
     "name": "stdout",
     "output_type": "stream",
     "text": [
      "smoothness1-compactness1\n",
      "PearsonRResult(statistic=0.6591232152159225, pvalue=3.403822261701272e-72)\n",
      "\n",
      "\n",
      "smoothness1-texture1\n",
      "PearsonRResult(statistic=-0.02338851599842355, pvalue=0.5776965879839978)\n"
     ]
    }
   ],
   "source": [
    "print('smoothness1-compactness1')\n",
    "print(pearsonr(data['smoothness1'], data['compactness1']))\n",
    "\n",
    "\n",
    "print('\\n\\nsmoothness1-texture1')\n",
    "print(pearsonr(data['smoothness1'], data['texture1']))\n",
    "\n"
   ]
  },
  {
   "cell_type": "markdown",
   "metadata": {},
   "source": [
    "* per il coeff di pearson tra 'smoothness1-compactness1' al 95% di significatività si può rigettare l'ipotesi nulla (esso è significativamente diverso da 0)\n",
    "\n",
    "* per il coeff di pearson tra 'smoothness1-texture1' al 95% di significatività NON si può rigettare l'ipotesi nulla "
   ]
  },
  {
   "cell_type": "markdown",
   "metadata": {},
   "source": [
    "(2)"
   ]
  },
  {
   "cell_type": "code",
   "execution_count": 17,
   "metadata": {},
   "outputs": [],
   "source": [
    "X = data[['texture1', 'area1', 'compactness1', 'concave_points1']]\n",
    "y = data[['diagnosis']]"
   ]
  },
  {
   "cell_type": "code",
   "execution_count": 18,
   "metadata": {},
   "outputs": [
    {
     "name": "stdout",
     "output_type": "stream",
     "text": [
      "Optimization terminated successfully.\n",
      "         Current function value: 0.301824\n",
      "         Iterations 8\n"
     ]
    }
   ],
   "source": [
    "lreg_no_const = sm.Logit(y,X).fit()"
   ]
  },
  {
   "cell_type": "markdown",
   "metadata": {},
   "source": [
    "(3)"
   ]
  },
  {
   "cell_type": "code",
   "execution_count": 19,
   "metadata": {},
   "outputs": [
    {
     "data": {
      "text/html": [
       "<table class=\"simpletable\">\n",
       "<caption>Logit Regression Results</caption>\n",
       "<tr>\n",
       "  <th>Dep. Variable:</th>       <td>diagnosis</td>    <th>  No. Observations:  </th>  <td>   569</td>  \n",
       "</tr>\n",
       "<tr>\n",
       "  <th>Model:</th>                 <td>Logit</td>      <th>  Df Residuals:      </th>  <td>   565</td>  \n",
       "</tr>\n",
       "<tr>\n",
       "  <th>Method:</th>                 <td>MLE</td>       <th>  Df Model:          </th>  <td>     3</td>  \n",
       "</tr>\n",
       "<tr>\n",
       "  <th>Date:</th>            <td>Tue, 09 Apr 2024</td> <th>  Pseudo R-squ.:     </th>  <td>0.5429</td>  \n",
       "</tr>\n",
       "<tr>\n",
       "  <th>Time:</th>                <td>19:24:04</td>     <th>  Log-Likelihood:    </th> <td> -171.74</td> \n",
       "</tr>\n",
       "<tr>\n",
       "  <th>converged:</th>             <td>True</td>       <th>  LL-Null:           </th> <td> -375.72</td> \n",
       "</tr>\n",
       "<tr>\n",
       "  <th>Covariance Type:</th>     <td>nonrobust</td>    <th>  LLR p-value:       </th> <td>4.169e-88</td>\n",
       "</tr>\n",
       "</table>\n",
       "<table class=\"simpletable\">\n",
       "<tr>\n",
       "         <td></td>            <th>coef</th>     <th>std err</th>      <th>z</th>      <th>P>|z|</th>  <th>[0.025</th>    <th>0.975]</th>  \n",
       "</tr>\n",
       "<tr>\n",
       "  <th>texture1</th>        <td>   -0.1084</td> <td>    0.028</td> <td>   -3.933</td> <td> 0.000</td> <td>   -0.162</td> <td>   -0.054</td>\n",
       "</tr>\n",
       "<tr>\n",
       "  <th>area1</th>           <td>   -0.0015</td> <td>    0.001</td> <td>   -1.714</td> <td> 0.087</td> <td>   -0.003</td> <td>    0.000</td>\n",
       "</tr>\n",
       "<tr>\n",
       "  <th>compactness1</th>    <td>  -42.9420</td> <td>    6.178</td> <td>   -6.951</td> <td> 0.000</td> <td>  -55.050</td> <td>  -30.834</td>\n",
       "</tr>\n",
       "<tr>\n",
       "  <th>concave_points1</th> <td>  149.4942</td> <td>   14.874</td> <td>   10.050</td> <td> 0.000</td> <td>  120.341</td> <td>  178.648</td>\n",
       "</tr>\n",
       "</table>"
      ],
      "text/latex": [
       "\\begin{center}\n",
       "\\begin{tabular}{lclc}\n",
       "\\toprule\n",
       "\\textbf{Dep. Variable:}   &    diagnosis     & \\textbf{  No. Observations:  } &      569    \\\\\n",
       "\\textbf{Model:}           &      Logit       & \\textbf{  Df Residuals:      } &      565    \\\\\n",
       "\\textbf{Method:}          &       MLE        & \\textbf{  Df Model:          } &        3    \\\\\n",
       "\\textbf{Date:}            & Tue, 09 Apr 2024 & \\textbf{  Pseudo R-squ.:     } &   0.5429    \\\\\n",
       "\\textbf{Time:}            &     19:24:04     & \\textbf{  Log-Likelihood:    } &   -171.74   \\\\\n",
       "\\textbf{converged:}       &       True       & \\textbf{  LL-Null:           } &   -375.72   \\\\\n",
       "\\textbf{Covariance Type:} &    nonrobust     & \\textbf{  LLR p-value:       } & 4.169e-88   \\\\\n",
       "\\bottomrule\n",
       "\\end{tabular}\n",
       "\\begin{tabular}{lcccccc}\n",
       "                          & \\textbf{coef} & \\textbf{std err} & \\textbf{z} & \\textbf{P$> |$z$|$} & \\textbf{[0.025} & \\textbf{0.975]}  \\\\\n",
       "\\midrule\n",
       "\\textbf{texture1}         &      -0.1084  &        0.028     &    -3.933  &         0.000        &       -0.162    &       -0.054     \\\\\n",
       "\\textbf{area1}            &      -0.0015  &        0.001     &    -1.714  &         0.087        &       -0.003    &        0.000     \\\\\n",
       "\\textbf{compactness1}     &     -42.9420  &        6.178     &    -6.951  &         0.000        &      -55.050    &      -30.834     \\\\\n",
       "\\textbf{concave\\_points1} &     149.4942  &       14.874     &    10.050  &         0.000        &      120.341    &      178.648     \\\\\n",
       "\\bottomrule\n",
       "\\end{tabular}\n",
       "%\\caption{Logit Regression Results}\n",
       "\\end{center}"
      ],
      "text/plain": [
       "<class 'statsmodels.iolib.summary.Summary'>\n",
       "\"\"\"\n",
       "                           Logit Regression Results                           \n",
       "==============================================================================\n",
       "Dep. Variable:              diagnosis   No. Observations:                  569\n",
       "Model:                          Logit   Df Residuals:                      565\n",
       "Method:                           MLE   Df Model:                            3\n",
       "Date:                Tue, 09 Apr 2024   Pseudo R-squ.:                  0.5429\n",
       "Time:                        19:24:04   Log-Likelihood:                -171.74\n",
       "converged:                       True   LL-Null:                       -375.72\n",
       "Covariance Type:            nonrobust   LLR p-value:                 4.169e-88\n",
       "===================================================================================\n",
       "                      coef    std err          z      P>|z|      [0.025      0.975]\n",
       "-----------------------------------------------------------------------------------\n",
       "texture1           -0.1084      0.028     -3.933      0.000      -0.162      -0.054\n",
       "area1              -0.0015      0.001     -1.714      0.087      -0.003       0.000\n",
       "compactness1      -42.9420      6.178     -6.951      0.000     -55.050     -30.834\n",
       "concave_points1   149.4942     14.874     10.050      0.000     120.341     178.648\n",
       "===================================================================================\n",
       "\"\"\""
      ]
     },
     "execution_count": 19,
     "metadata": {},
     "output_type": "execute_result"
    }
   ],
   "source": [
    "lreg_no_const.summary()"
   ]
  },
  {
   "cell_type": "markdown",
   "metadata": {},
   "source": [
    "Solo per il regressore relativo a 'area1' ad un livello di significatività del 95% NON si può rigettare l'ipotesi NULLA, tutti gli altri sono significativamente (al 95%) diversi da zero"
   ]
  },
  {
   "cell_type": "markdown",
   "metadata": {},
   "source": [
    "(4)"
   ]
  },
  {
   "cell_type": "code",
   "execution_count": 20,
   "metadata": {},
   "outputs": [],
   "source": [
    "X_test1=[18,500,0.2,0.05]\n",
    "X_test2=[10,40,0.14,0.06]"
   ]
  },
  {
   "cell_type": "code",
   "execution_count": null,
   "metadata": {},
   "outputs": [],
   "source": []
  },
  {
   "cell_type": "code",
   "execution_count": 21,
   "metadata": {},
   "outputs": [
    {
     "name": "stdout",
     "output_type": "stream",
     "text": [
      "\n",
      "X_test1\n",
      "[0.02198603]\n",
      "Classe predetta: 0\n",
      "\n",
      "X_test2\n",
      "[0.85996362]\n",
      "Classe predetta: 1\n"
     ]
    }
   ],
   "source": [
    "print('\\nX_test1')\n",
    "prob_pred_1 = lreg_no_const.predict(X_test1)\n",
    "print(prob_pred_1)\n",
    "print('Classe predetta: '+str(list(map(round,prob_pred_1))[0]))\n",
    "\n",
    "print('\\nX_test2')\n",
    "prob_pred_2 = lreg_no_const.predict(X_test2)\n",
    "print(prob_pred_2)\n",
    "print('Classe predetta: '+str(list(map(round, prob_pred_2))[0]))"
   ]
  },
  {
   "cell_type": "markdown",
   "metadata": {},
   "source": [
    "***\n",
    "***\n",
    "***"
   ]
  },
  {
   "cell_type": "markdown",
   "metadata": {},
   "source": [
    "## 4. Exercise (7 points total)"
   ]
  },
  {
   "cell_type": "markdown",
   "metadata": {},
   "source": [
    "\n",
    "Given the dataset grades.csv\n",
    "\n",
    "(1) Test if write is normally (i.e. Gaussian) distributed by performing a Kolmogorov-Smirnov test, with a confidence level of 95%. Discuss the results. (2 points)\n",
    "\n",
    "(2) plot a QQ plot; write against Gaussian quantiles to check whether the sample is normal (i.e. Gaussian) (2 points)\n",
    "\n",
    "(3) Compute the confidence interval, with a confidence level of 95%, of the mean of the variable read and median of the variable science with a number of bootstrap samples equal to 500.\n",
    "(3 points)"
   ]
  },
  {
   "cell_type": "code",
   "execution_count": 22,
   "metadata": {},
   "outputs": [
    {
     "data": {
      "text/html": [
       "<div>\n",
       "<style scoped>\n",
       "    .dataframe tbody tr th:only-of-type {\n",
       "        vertical-align: middle;\n",
       "    }\n",
       "\n",
       "    .dataframe tbody tr th {\n",
       "        vertical-align: top;\n",
       "    }\n",
       "\n",
       "    .dataframe thead th {\n",
       "        text-align: right;\n",
       "    }\n",
       "</style>\n",
       "<table border=\"1\" class=\"dataframe\">\n",
       "  <thead>\n",
       "    <tr style=\"text-align: right;\">\n",
       "      <th></th>\n",
       "      <th>read</th>\n",
       "      <th>write</th>\n",
       "      <th>math</th>\n",
       "      <th>science</th>\n",
       "      <th>socst</th>\n",
       "    </tr>\n",
       "  </thead>\n",
       "  <tbody>\n",
       "    <tr>\n",
       "      <th>0</th>\n",
       "      <td>57</td>\n",
       "      <td>52</td>\n",
       "      <td>41</td>\n",
       "      <td>47</td>\n",
       "      <td>57</td>\n",
       "    </tr>\n",
       "    <tr>\n",
       "      <th>1</th>\n",
       "      <td>68</td>\n",
       "      <td>59</td>\n",
       "      <td>53</td>\n",
       "      <td>63</td>\n",
       "      <td>61</td>\n",
       "    </tr>\n",
       "    <tr>\n",
       "      <th>2</th>\n",
       "      <td>44</td>\n",
       "      <td>33</td>\n",
       "      <td>54</td>\n",
       "      <td>58</td>\n",
       "      <td>31</td>\n",
       "    </tr>\n",
       "    <tr>\n",
       "      <th>3</th>\n",
       "      <td>63</td>\n",
       "      <td>44</td>\n",
       "      <td>47</td>\n",
       "      <td>53</td>\n",
       "      <td>56</td>\n",
       "    </tr>\n",
       "    <tr>\n",
       "      <th>4</th>\n",
       "      <td>47</td>\n",
       "      <td>52</td>\n",
       "      <td>57</td>\n",
       "      <td>53</td>\n",
       "      <td>61</td>\n",
       "    </tr>\n",
       "  </tbody>\n",
       "</table>\n",
       "</div>"
      ],
      "text/plain": [
       "   read  write  math  science  socst\n",
       "0    57     52    41       47     57\n",
       "1    68     59    53       63     61\n",
       "2    44     33    54       58     31\n",
       "3    63     44    47       53     56\n",
       "4    47     52    57       53     61"
      ]
     },
     "execution_count": 22,
     "metadata": {},
     "output_type": "execute_result"
    }
   ],
   "source": [
    "data=pd.read_csv('grades.csv')\n",
    "data.head()"
   ]
  },
  {
   "cell_type": "markdown",
   "metadata": {},
   "source": [
    "(1)"
   ]
  },
  {
   "cell_type": "code",
   "execution_count": 23,
   "metadata": {},
   "outputs": [],
   "source": [
    "from scipy.stats import kstest\n",
    "from scipy.stats import norm"
   ]
  },
  {
   "cell_type": "code",
   "execution_count": 24,
   "metadata": {},
   "outputs": [],
   "source": [
    "mu = np.mean(data['write'])\n",
    "st = np.std(data['write'])"
   ]
  },
  {
   "cell_type": "code",
   "execution_count": 25,
   "metadata": {},
   "outputs": [
    {
     "data": {
      "text/plain": [
       "KstestResult(statistic=0.13485672359472245, pvalue=0.0012392145128983477, statistic_location=59, statistic_sign=-1)"
      ]
     },
     "execution_count": 25,
     "metadata": {},
     "output_type": "execute_result"
    }
   ],
   "source": [
    "kstest(data['write'], 'norm', args=(mu,st))"
   ]
  },
  {
   "cell_type": "markdown",
   "metadata": {},
   "source": [
    "Al livello di significatività del 95% possiamo rifiutare l'ipotesi che 'write' segua una distribuzione gaussiana"
   ]
  },
  {
   "cell_type": "markdown",
   "metadata": {},
   "source": [
    "(2)"
   ]
  },
  {
   "cell_type": "code",
   "execution_count": 26,
   "metadata": {},
   "outputs": [
    {
     "data": {
      "image/png": "[encoded data removed]",
      "text/plain": [
       "<Figure size 640x480 with 1 Axes>"
      ]
     },
     "metadata": {},
     "output_type": "display_data"
    }
   ],
   "source": [
    "sm.qqplot((data['write']-mu)/st, line ='45') \n",
    "plt.show()"
   ]
  },
  {
   "cell_type": "markdown",
   "metadata": {},
   "source": [
    "(3)"
   ]
  },
  {
   "cell_type": "code",
   "execution_count": 27,
   "metadata": {},
   "outputs": [],
   "source": [
    "import random\n",
    "from random import choices\n",
    "from collections import Counter"
   ]
  },
  {
   "cell_type": "code",
   "execution_count": 28,
   "metadata": {},
   "outputs": [],
   "source": [
    "n_boot = 500\n",
    "MEAN = []\n",
    "MEDIAN = []\n",
    "for i in np.arange(n_boot):\n",
    "    idx = choices(data.index, k= len(data))\n",
    "    data_temp = data.iloc[idx]\n",
    "    mean_temp = np.mean(data_temp['read'])\n",
    "    median_temp = np.median(data_temp['science'])\n",
    "    MEAN.append(mean_temp)\n",
    "    MEDIAN.append(median_temp)"
   ]
  },
  {
   "cell_type": "code",
   "execution_count": 29,
   "metadata": {},
   "outputs": [
    {
     "data": {
      "text/plain": [
       "array([50.82975 , 53.642625])"
      ]
     },
     "execution_count": 29,
     "metadata": {},
     "output_type": "execute_result"
    }
   ],
   "source": [
    "np.quantile(MEAN, [0.025, 0.975])"
   ]
  },
  {
   "cell_type": "code",
   "execution_count": 30,
   "metadata": {},
   "outputs": [
    {
     "data": {
      "text/plain": [
       "array([50., 55.])"
      ]
     },
     "execution_count": 30,
     "metadata": {},
     "output_type": "execute_result"
    }
   ],
   "source": [
    "np.quantile(MEDIAN, [0.025, 0.975])"
   ]
  },
  {
   "cell_type": "markdown",
   "metadata": {},
   "source": [
    "***\n",
    "***\n",
    "***"
   ]
  },
  {
   "cell_type": "markdown",
   "metadata": {},
   "source": [
    "## 5. Exercise (6.5 points total)"
   ]
  },
  {
   "cell_type": "markdown",
   "metadata": {},
   "source": [
    "Suppose we observe n realizations y1,y2,...,yn of n independent random variables, Y1,Y2,...,Yn all\n",
    "having a normal (i.e. Gaussian) distribution with mean μY and variance σY2 . Consider the following\n",
    "alternativeestimatorforσ2 ,thevarianceoftheY,wherec>0: Z= 1 Pn (Y −μ )2 Y i (n−c)2 i=1 i Y\n",
    "We want to illustrate that this estimator is a biased estimator for σY2 . Fix c = 4 and implement the estimator above.\n",
    "\n",
    "(1) Randomly draw 20 observations from the normal (i.e. Gaussian) distribution with mean 5 and variance 16 and compute an estimate using Z. Repeat this procedure 5000 times. (2 points)\n",
    "write\n",
    "\n",
    "(2) Plot a histogram and cumulative distribution of Z. (2 points)\n",
    "\n",
    "(3) A simple computation shows that E[Z] = n σ2 Is Z biased or unbiased? Is Z asymptotically\n",
    "(n−4)2 Y unbiased? Motivate your answer. (2.5 points)"
   ]
  },
  {
   "cell_type": "code",
   "execution_count": 31,
   "metadata": {},
   "outputs": [],
   "source": [
    "def extim(x,mu,c=4):\n",
    "    tot = 0\n",
    "    for i in x:\n",
    "        tot = tot +(i-mu)**2\n",
    "    Z = tot / (len(x)-c)**2\n",
    "    return Z"
   ]
  },
  {
   "cell_type": "markdown",
   "metadata": {},
   "source": [
    "(1)"
   ]
  },
  {
   "cell_type": "code",
   "execution_count": 43,
   "metadata": {},
   "outputs": [],
   "source": [
    "time = 5000\n",
    "Z = []\n",
    "for i in np.arange(time):\n",
    "    x = norm(loc = 5, scale = 4).rvs(size = 20)\n",
    "    Z.append(extim(x,5))"
   ]
  },
  {
   "cell_type": "markdown",
   "metadata": {},
   "source": [
    "(2)"
   ]
  },
  {
   "cell_type": "code",
   "execution_count": 44,
   "metadata": {},
   "outputs": [
    {
     "data": {
      "image/png": "[encoded data removed]",
      "text/plain": [
       "<Figure size 640x480 with 1 Axes>"
      ]
     },
     "metadata": {},
     "output_type": "display_data"
    }
   ],
   "source": [
    "sns.histplot(Z)\n",
    "plt.show()"
   ]
  },
  {
   "cell_type": "code",
   "execution_count": 45,
   "metadata": {},
   "outputs": [
    {
     "data": {
      "text/plain": [
       "1.253301208426339"
      ]
     },
     "execution_count": 45,
     "metadata": {},
     "output_type": "execute_result"
    }
   ],
   "source": [
    "np.mean(Z)"
   ]
  },
  {
   "cell_type": "code",
   "execution_count": 34,
   "metadata": {},
   "outputs": [
    {
     "data": {
      "image/png": "[encoded data removed]",
      "text/plain": [
       "<Figure size 640x480 with 1 Axes>"
      ]
     },
     "metadata": {},
     "output_type": "display_data"
    }
   ],
   "source": [
    "y = np.arange(1, len(Z)+1)/len(Z)\n",
    "x = np.sort(Z)\n",
    "plt.plot(x,y)\n",
    "plt.hist(Z, cumulative=True, density=True)\n",
    "plt.show()"
   ]
  },
  {
   "cell_type": "markdown",
   "metadata": {},
   "source": [
    "(3)"
   ]
  },
  {
   "cell_type": "markdown",
   "metadata": {},
   "source": [
    "E' uno stimatore bias poichè $E[Z]\\neq \\sigma_Y^2$ "
   ]
  },
  {
   "cell_type": "markdown",
   "metadata": {},
   "source": [
    "Inoltre è anche asintoticamente biased poichè anche se $n\\to\\infty$ avremo sempre $E[Z]\\neq \\sigma_Y^2$ anzi avremo $E[Z]\\xrightarrow[n\\to\\infty]{}0$"
   ]
  }
 ],
 "metadata": {
  "kernelspec": {
   "display_name": "Python 3",
   "language": "python",
   "name": "python3"
  },
  "language_info": {
   "codemirror_mode": {
    "name": "ipython",
    "version": 3
   },
   "file_extension": ".py",
   "mimetype": "text/x-python",
   "name": "python",
   "nbconvert_exporter": "python",
   "pygments_lexer": "ipython3",
   "version": "3.11.6"
  }
 },
 "nbformat": 4,
 "nbformat_minor": 0
}
